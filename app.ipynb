{
 "cells": [
  {
   "cell_type": "code",
   "execution_count": 66,
   "id": "d76918a4",
   "metadata": {},
   "outputs": [
    {
     "data": {
      "text/plain": [
       "'กรุงเทพฯ คือ เมืองหลวงของประเทศไทยนะคะ'"
      ]
     },
     "execution_count": 66,
     "metadata": {},
     "output_type": "execute_result"
    }
   ],
   "source": [
    "import ollama\n",
    "\n",
    "prompt = \"เมืองหลวงของประเทศไทย ?\"\n",
    "\n",
    "response = ollama.chat(\n",
    "    model=\"llama3.2\",\n",
    "    messages=[\n",
    "        {\n",
    "          \"role\" : \"system\",\n",
    "          \"content\" : \"You are female assistant helpful with Answer with นะคะ\"  \n",
    "        },\n",
    "        {\n",
    "            \"role\": \"user\",\n",
    "            \"content\": prompt\n",
    "        }\n",
    "    ]\n",
    ")\n",
    "\n",
    "response[\"message\"][\"content\"]\n"
   ]
  },
  {
   "cell_type": "code",
   "execution_count": 67,
   "id": "f47735e9",
   "metadata": {},
   "outputs": [],
   "source": [
    "import psycopg2\n",
    "\n",
    "def get_db_connection():\n",
    "    conn = psycopg2.connect(\n",
    "        host=\"localhost\",\n",
    "        database=\"mydatabase\",\n",
    "        user=\"myuser\",\n",
    "        password=\"mypassword\",\n",
    "        port=5432,\n",
    "    )\n",
    "    return conn\n",
    "\n",
    "def get_db_cursor(conn):\n",
    "    return conn.cursor()\n",
    "\n",
    "conn = get_db_connection()\n",
    "cur = get_db_cursor(conn)\n",
    "# if not exists wil create extension vector\n",
    "cur.execute(\"CREATE EXTENSION IF NOT EXISTS vector;\") # new type vector\n",
    "\n",
    "#  create table save vector embedding\n",
    "cur.execute(\"\"\"\n",
    "CREATE TABLE IF NOT EXISTS documents (\n",
    "    id SERIAL PRIMARY KEY,\n",
    "    content TEXT,\n",
    "    embedding VECTOR(1024) -- Adjust the dimension based on your model\n",
    ");\n",
    "\"\"\")\n",
    "\n",
    "conn.commit()\n",
    "cur.close()\n",
    "conn.close()\n"
   ]
  },
  {
   "cell_type": "code",
   "execution_count": 68,
   "id": "6e9371dc",
   "metadata": {},
   "outputs": [
    {
     "data": {
      "application/vnd.jupyter.widget-view+json": {
       "model_id": "fa8f56229d924082abb5ad29664ce02a",
       "version_major": 2,
       "version_minor": 0
      },
      "text/plain": [
       "Batches:   0%|          | 0/1 [00:00<?, ?it/s]"
      ]
     },
     "metadata": {},
     "output_type": "display_data"
    },
    {
     "data": {
      "application/vnd.jupyter.widget-view+json": {
       "model_id": "f8fa24ad2b884dd88df5cda54d2a9e70",
       "version_major": 2,
       "version_minor": 0
      },
      "text/plain": [
       "Batches:   0%|          | 0/1 [00:00<?, ?it/s]"
      ]
     },
     "metadata": {},
     "output_type": "display_data"
    },
    {
     "data": {
      "application/vnd.jupyter.widget-view+json": {
       "model_id": "c73a1d65beb24efba3876853fa605a33",
       "version_major": 2,
       "version_minor": 0
      },
      "text/plain": [
       "Batches:   0%|          | 0/1 [00:00<?, ?it/s]"
      ]
     },
     "metadata": {},
     "output_type": "display_data"
    },
    {
     "data": {
      "application/vnd.jupyter.widget-view+json": {
       "model_id": "d4e2c336ff9f41159f10159af6d3ef91",
       "version_major": 2,
       "version_minor": 0
      },
      "text/plain": [
       "Batches:   0%|          | 0/1 [00:00<?, ?it/s]"
      ]
     },
     "metadata": {},
     "output_type": "display_data"
    },
    {
     "data": {
      "application/vnd.jupyter.widget-view+json": {
       "model_id": "4a6b2adee97a4453a3ab14b2023ff37f",
       "version_major": 2,
       "version_minor": 0
      },
      "text/plain": [
       "Batches:   0%|          | 0/1 [00:00<?, ?it/s]"
      ]
     },
     "metadata": {},
     "output_type": "display_data"
    },
    {
     "data": {
      "application/vnd.jupyter.widget-view+json": {
       "model_id": "b8f8706124034acab2efb386d8f59057",
       "version_major": 2,
       "version_minor": 0
      },
      "text/plain": [
       "Batches:   0%|          | 0/1 [00:00<?, ?it/s]"
      ]
     },
     "metadata": {},
     "output_type": "display_data"
    },
    {
     "data": {
      "application/vnd.jupyter.widget-view+json": {
       "model_id": "5e89c6f4fdd4482da1211520798051a5",
       "version_major": 2,
       "version_minor": 0
      },
      "text/plain": [
       "Batches:   0%|          | 0/1 [00:00<?, ?it/s]"
      ]
     },
     "metadata": {},
     "output_type": "display_data"
    }
   ],
   "source": [
    "from sentence_transformers import SentenceTransformer\n",
    "\n",
    "# initial conn instance\n",
    "conn = get_db_connection()\n",
    "cur = get_db_cursor(conn)\n",
    "embedder = SentenceTransformer(\"BAAI/bge-m3\")\n",
    "\n",
    "def add_document(text):\n",
    "    text_trim = text.replace(\"\\n\", \" \")\n",
    "    embedding = embedder.encode(text_trim, show_progress_bar=True).tolist()\n",
    "    cur.execute(\"INSERT INTO documents (content, embedding) VALUES (%s, %s)\", (text, embedding))\n",
    "    conn.commit()\n",
    "\n",
    "\n",
    "documents = [\n",
    "    \"สาขาวิชาเทคโนโลยีสารสนเทศ Master of Science Programme in Information Technology หลักสูตรวิทยาศาสตรมหาบัณฑิต สาขาวิชาเทคโนโลยีสารสนเทศ เป็นหลักสูตร 2 ปี (4 ภาคการศึกษา) จำนวนหน่วยกิตรวม 36 หน่วยกิต เน้นสายวิชาการและ/หรือวิชาชีพ\",\n",
    "    \"หลักสูตรวิทยาศาสตรมหาบัณฑิต (วท.ม.) สาขาวิชาวิศวกรรมซอฟต์แวร์เพื่อปัญญาประดิษฐ์ Master of Science Programme in Software Engineering for for Artificial Intelligence หลักสูตรวิทยาศาสตรมหาบัณฑิต สาขาวิชาวิศวกรรมซอฟต์แวร์เพื่อปัญญาประดิษฐ์ เป็นหลักสูตร 2 ปี (4 ภาคการศึกษา) จำนวนหน่วยกิตรวม 36 หน่วยกิต เน้นสายวิชาการและ/หรือวิชาชีพ \",\n",
    "    \"หลักสูตรวิทยาศาสตรมหาบัณฑิต (วท.ม.) สาขาวิชาระบบสารสนเทศอัจฉริยะทางธุรกิจ Master of Science Programme in Intelligent Business Information System หลักสูตรวิทยาศาสตรมหาบัณฑิต สาขาวิชาระบบสารสนเทศอัจฉริยะทางธุรกิจ เป็นหลักสูตร 2 ปี (4 ภาคการศึกษา) จำนวนหน่วยกิตรวม 36 หน่วยกิต เน้นสายวิชาชีพ \",\n",
    "    \"หลักสูตรวิทยาศาสตรมหาบัณฑิต (วท.ม.) สาขาวิชาวิทยาการคอมพิวเตอร์ Master of Science Program in Computer Science หลักสูตรวิทยาศาสตรมหาบัณฑิต สาขาวิชาวิทยาการคอมพิวเตอร์ เป็นหลักสูตร 2 ปี (4 ภาคการศึกษา) จำนวนหน่วยกิตรวม 36 หน่วยกิต เน้นสายวิชาการและ/หรือวิชาชีพ \",\n",
    "    \"คณะเทคโนโลยีสารสนเทศ มหาวิทยาลัยเทคโนโลยีพระจอมเกล้าธนบุรี เริ่มดำเนินงานมาตั้งแต่ปีงบประมาณ 2538 และเป็นส่วนราชการตามพระราชกฤษฎีกาแบ่งส่วนราชการสถาบันเทคโนโลยีพระจอมเกล้าธนบุรี ตามราชกิจจานุเบกษา ฉบับที่ 114 วันที่ 21 พฤษภาคม 2540 โดยมี ดร.กฤษณพงศ์ กีรติกร เป็นประธานโครงการจัดตั้งคณะฯ โดยมีวัตถุประสงค์ผลิตบัณฑิตระดับปริญญาตรี และสูงกว่าปริญญาตรี ทางเทคโนโลยีสารสนเทศ เพื่อส่งเสริมการพัฒนาอุตสาหกรรมสารสนเทศ ส่งเสริมการพัฒนาและการวิจัยประยุกต์ทางเทคโนโลยีสารสนเทศ และเพื่อให้บริการวิชาการคอมพิวเตอร์และการประมวลสารสนเทศ แก่หน่วยงานทั้งภายในและภายนอกมหาวิทยาลัยฯ การดำเนินงานในระยะแรกใช้พื้นที่บริเวณชั้น 3 อาคารเรียนรวม 2 ของมหาวิทยาลัยฯ และต่อมาได้จึงได้ขยายมาสร้างอาคารคณะเทคโนโลยีสารสนเทศ เมื่อวันที่ 6 ธันวาคม 2545 จนถึงปัจจุบัน นอกจากนั้นยังมีการจัดตั้งและดำเนินการโครงการวิทยาเขตราชบุรี และดำเนินการเรียนการสอนและผลิตบัณฑิตระหว่างปี 2539 – 2551 โดยมีรูปแบบการเรียนการสอนผ่านทางไกล (Video Conference) โดยอาจารย์สอนสลับที่ทั้งกรุงเทพฯ และราชบุรี โดยมีวัตถุประสงค์เพื่อขยายโอกาสทางการศึกษาสู่ภูมิภาคอีกด้วย\",\n",
    "    \"สัญลักษณ์ประจำคณะเทคโนโลยีสารสนเทศ “Information Evolution” เป็นประติมากรรมสัญลักษณ์ประจำคณะเทคโนโลยีสารสนเทศ ออกแบบและสรรค์สร้างโดยอาจารย์ชำเรือง วิเชียรเขตต์ ศิลปินแห่งชาติ สาขาทัศนศิลป์ (ประติมากรรม) โดยมีความหมายว่า “ตราบใดที่โลกยังมีสิ่งมีชีวิต การสื่อสารที่ฉับไวของมวลมนุษย์ชาติจะครอบคลุมไปทั่วโลก” ตัวอักษรสัญลักษณ์ (Wordmark) SIT เป็นตัวอักษรชื่อย่อของคณะเทคโนโลยีสารสนเทศ ย่อมาจาก School of Information Technology ที่ถูกออกแบบมาอย่างสร้างสรรค์สื่อถึงความเป็นคณะเทคโนโลยีสารสนเทศได้อย่างร่วมสมัย การใช้ชื่อย่อภาษาอังกฤษยังสื่อถึงวิสัยทัศน์ของคณะที่จะพัฒนาคณะให้เป็นคณะเทคโนโลยีสารสนเทศชั้นนำของประเทศ ดาวน์โหลดตราสัญลักษณ์ \",\n",
    "    \"บุคลากร ผศ. ดร.ณรงค์ฤทธิ์ วราภรณ์ - คณบดีคณะเทคโนโลยีสารสนเทศ รศ. ดร.วชิรศักดิ์ วานิชชา - รองคณบดีอาวุโสด้านวิจัยและบริการวิชาการ ผศ. ดร.อุมาพร สุภสิทธิเมธี - รองคณบดีด้านบริหาร ผศ. ดร.วรรัตน์ กระทู้ - รองคณบดีด้านวิชาการ ดร.สยาม แย้มแสงสังข์ - รองคณบดีด้านประกันคุณภาพและพัฒนานักศึกษา ผศ. ดร.ชลเมธ อาปณิกานนท์ - รองคณบดีด้านพัฒนาความเป็นสากล\"\n",
    "]\n",
    "\n",
    "for doc in documents:\n",
    "    add_document(doc)\n",
    "\n",
    "cur.close()\n",
    "conn.close()\n",
    "\n",
    "\n"
   ]
  },
  {
   "cell_type": "code",
   "execution_count": 69,
   "id": "d3307397",
   "metadata": {},
   "outputs": [
    {
     "data": {
      "application/vnd.jupyter.widget-view+json": {
       "model_id": "df93ca6cba2544c294072500d84622a2",
       "version_major": 2,
       "version_minor": 0
      },
      "text/plain": [
       "Batches:   0%|          | 0/1 [00:00<?, ?it/s]"
      ]
     },
     "metadata": {},
     "output_type": "display_data"
    },
    {
     "data": {
      "text/plain": [
       "[('หลักสูตรวิทยาศาสตรมหาบัณฑิต (วท.ม.) สาขาวิชาวิทยาการคอมพิวเตอร์ Master of Science Program in Computer Science หลักสูตรวิทยาศาสตรมหาบัณฑิต สาขาวิชาวิทยาการคอมพิวเตอร์ เป็นหลักสูตร 2 ปี (4 ภาคการศึกษา) จำนวนหน่วยกิตรวม 36 หน่วยกิต เน้นสายวิชาการและ/หรือวิชาชีพ ',\n",
       "  0.39941179161561735),\n",
       " ('หลักสูตรวิทยาศาสตรมหาบัณฑิต (วท.ม.) สาขาวิชาวิทยาการคอมพิวเตอร์ Master of Science Program in Computer Science หลักสูตรวิทยาศาสตรมหาบัณฑิต สาขาวิชาวิทยาการคอมพิวเตอร์ เป็นหลักสูตร 2 ปี (4 ภาคการศึกษา) จำนวนหน่วยกิตรวม 36 หน่วยกิต เน้นสายวิชาการและ/หรือวิชาชีพ ',\n",
       "  0.39941179161561735),\n",
       " ('หลักสูตรวิทยาศาสตรมหาบัณฑิต (วท.ม.) สาขาวิชาระบบสารสนเทศอัจฉริยะทางธุรกิจ Master of Science Programme in Intelligent Business Information System หลักสูตรวิทยาศาสตรมหาบัณฑิต สาขาวิชาระบบสารสนเทศอัจฉริยะทางธุรกิจ เป็นหลักสูตร 2 ปี (4 ภาคการศึกษา) จำนวนหน่วยกิตรวม 36 หน่วยกิต เน้นสายวิชาชีพ ',\n",
       "  0.39942581660439347),\n",
       " ('หลักสูตรวิทยาศาสตรมหาบัณฑิต (วท.ม.) สาขาวิชาระบบสารสนเทศอัจฉริยะทางธุรกิจ Master of Science Programme in Intelligent Business Information System หลักสูตรวิทยาศาสตรมหาบัณฑิต สาขาวิชาระบบสารสนเทศอัจฉริยะทางธุรกิจ เป็นหลักสูตร 2 ปี (4 ภาคการศึกษา) จำนวนหน่วยกิตรวม 36 หน่วยกิต เน้นสายวิชาชีพ ',\n",
       "  0.39942581660439347),\n",
       " ('สาขาวิชาเทคโนโลยีสารสนเทศ Master of Science Programme in Information Technology หลักสูตรวิทยาศาสตรมหาบัณฑิต สาขาวิชาเทคโนโลยีสารสนเทศ เป็นหลักสูตร 2 ปี (4 ภาคการศึกษา) จำนวนหน่วยกิตรวม 36 หน่วยกิต เน้นสายวิชาการและ/หรือวิชาชีพ',\n",
       "  0.417054280569383)]"
      ]
     },
     "execution_count": 69,
     "metadata": {},
     "output_type": "execute_result"
    }
   ],
   "source": [
    "def query_vector(query_text , k=5):\n",
    "    query_embedding = embedder.encode(query_text, show_progress_bar=True).tolist()\n",
    "    \n",
    "    conn = get_db_connection()\n",
    "    cur = get_db_cursor(conn)\n",
    "    query_embedding_str = \"[\" + \", \".join(map(str, query_embedding)) + \"]\"\n",
    "    cur = conn.cursor()\n",
    "    \n",
    "    # Use the <=> operator for similarity search\n",
    "    # ORDER BY ASC if first will near matches\n",
    "    # ORDER BY DESC if first will far matches\n",
    "    query_sql = \"\"\"\n",
    "        SELECT content, embedding <=> %s::vector AS similarity_score\n",
    "        FROM documents\n",
    "        ORDER BY similarity_score ASC\n",
    "        LIMIT %s;\n",
    "    \"\"\"\n",
    "    cur.execute(query_sql, (query_embedding_str, k))\n",
    "    results = cur.fetchall()\n",
    "    cur.close()\n",
    "    conn.close()\n",
    "    return results\n",
    "    \n",
    "    \n",
    "results = query_vector(\"หลักสูตร ปริญญาตรี มีอะไรบ้าง ?\")\n",
    "results\n",
    "    "
   ]
  },
  {
   "cell_type": "code",
   "execution_count": 70,
   "id": "12d9b84a",
   "metadata": {},
   "outputs": [
    {
     "data": {
      "application/vnd.jupyter.widget-view+json": {
       "model_id": "0ea3fa42967e4aa4b2edf76ef5d21bac",
       "version_major": 2,
       "version_minor": 0
      },
      "text/plain": [
       "Batches:   0%|          | 0/1 [00:00<?, ?it/s]"
      ]
     },
     "metadata": {},
     "output_type": "display_data"
    },
    {
     "data": {
      "application/vnd.jupyter.widget-view+json": {
       "model_id": "60ed6ad6d23f45c683e8b75e5cb8658e",
       "version_major": 2,
       "version_minor": 0
      },
      "text/plain": [
       "Batches:   0%|          | 0/1 [00:00<?, ?it/s]"
      ]
     },
     "metadata": {},
     "output_type": "display_data"
    },
    {
     "data": {
      "application/vnd.jupyter.widget-view+json": {
       "model_id": "2e8e88cf66644b409f10a3213e007d02",
       "version_major": 2,
       "version_minor": 0
      },
      "text/plain": [
       "Batches:   0%|          | 0/1 [00:00<?, ?it/s]"
      ]
     },
     "metadata": {},
     "output_type": "display_data"
    },
    {
     "data": {
      "application/vnd.jupyter.widget-view+json": {
       "model_id": "39968e2923ed4701a226265b02b2e4b3",
       "version_major": 2,
       "version_minor": 0
      },
      "text/plain": [
       "Batches:   0%|          | 0/1 [00:00<?, ?it/s]"
      ]
     },
     "metadata": {},
     "output_type": "display_data"
    },
    {
     "data": {
      "application/vnd.jupyter.widget-view+json": {
       "model_id": "34cff83d11f748eab10c9d0fe4523cf1",
       "version_major": 2,
       "version_minor": 0
      },
      "text/plain": [
       "Batches:   0%|          | 0/1 [00:00<?, ?it/s]"
      ]
     },
     "metadata": {},
     "output_type": "display_data"
    },
    {
     "data": {
      "application/vnd.jupyter.widget-view+json": {
       "model_id": "9a0f24f0094d49379170d0a9d6566da6",
       "version_major": 2,
       "version_minor": 0
      },
      "text/plain": [
       "Batches:   0%|          | 0/1 [00:00<?, ?it/s]"
      ]
     },
     "metadata": {},
     "output_type": "display_data"
    },
    {
     "name": "stdout",
     "output_type": "stream",
     "text": [
      "คณบดีคือใคร ? : คณบดีคือ ผศ. ดร.ณรงค์ฤทธิ์ วราภรณ์\n",
      "============================================================\n",
      "สัญลักษ์ของ คณะ คืออะไร ? : สัญลักษณ์ประจำคณะเทคโนโลยีสารสนเทศของมหาวิทยาลัยเทคโนโลยีพระจอมเกล้าธนบุรีคือ “Information Evolution” ซึ่งเป็นประติมากรรมที่ออกแบบและสร้างโดยอาจารย์ชำเรือง วิเชียรเขตต์ ศิลปินแห่งชาติ สาขาทัศนศิลป์ (ประติมากรรม)\n",
      "============================================================\n",
      "หลักสูตรปริญญาตรี มีอะไรบ้าง ? : ข้อมูลที่มีเกี่ยวกับหลักสูตรวิทยาศาสตรมหาบัณฑิต (วท.ม.) และหลักสูตรวิทยาศาสตรมหาบัณฑิต สาขาวิชาวิทยาการคอมพิวเตอร์ คือ:\n",
      "\n",
      "- หลักสูตรวิทยาศาสตรมหาบัณฑิต (วท.ม.) สาขาวิชาระบบสารสนเทศอัจฉริยะทางธุรกิจ \n",
      "- หลักสูตรวิทยาศาสตรมหาบัณฑิต (วท.ม.) สาขาวิชาวิทยาการคอมพิวเตอร์\n",
      "============================================================\n",
      "หลักสูตรปริญญาโท มีอะไรบ้าง ? : มีหลักสูตรดังต่อไปนี้\n",
      "\n",
      "1. วิทยาศาสตรมหาบัณฑิต (วท.ม.) สาขาวิชาวิทยาการคอมพิวเตอร์\n",
      "2. วิทยาศาสตรมหาบัณฑิต (วท.ม.) สาขาวิชาเทคโนโลยีสารสนเทศ\n",
      "============================================================\n",
      "หลักสูตรปริญญาเอก มีอะไรบ้าง ? : ข้อมูลที่มีอยู่ไม่มีข้อมูลเกี่ยวกับหลักสูตรปริญญาเอก (Ph.D.) ของมหาวิทยาลัยเทคโนโลยีพระจอมเกล้าธนบุรี คณะเทคโนโลยีสารสนเทศ\n",
      "============================================================\n",
      "ความเป็นมาของคณะ มีอะไรบ้าง ? : ข้อมูลที่มีอยู่เกี่ยวกับความเป็นมาของคณะเทคโนโลยีสารสนเทศ มหาวิทยาลัยเทคโนโลยีพระจอมเกล้าธนบุรี คือ:\n",
      "\n",
      "* เริ่มดำเนินงานมาตั้งแต่ปีงบประมาณ 2538\n",
      "* เป็นส่วนราชการตามพระราชกฤษฎีกาแบ่งส่วนราชการสถาบันเทคโนโลยีพระจอมเกล้าธนบุรี ตามราชกิจจานุเบกษา ฉบับที่ 114 วันที่ 21 พฤษภาคม 2540\n",
      "* มี ดร.กฤษณพงศ์ กีรติกร เป็นประธานโครงการจัดตั้งคณะฯ\n",
      "* ใช้พื้นที่บริเวณชั้น 3 อาคารเรียนรวม 2 ของมหาวิทยาลัยฯ ในระยะแรก\n",
      "* ได้จึงได้ขยายมาสร้างอาคารคณะเทคโนโลยีสารสนเทศ เมื่อวันที่ 6 ธันวาคม 2545 จนถึงปัจจุบัน\n",
      "* มีการจัดตั้งและดำเนินการโครงการวิทยาเขตราชบุรี\n",
      "* มีการดำเนินการเรียนการสอนและผลิตบัณฑิตระหว่างปี 2539 – 2551 โดยมีรูปแบบการเรียนการสอนผ่านทางไกล (Video Conference)\n",
      "============================================================\n"
     ]
    }
   ],
   "source": [
    "import ollama\n",
    "\n",
    "def generate_response(query_text):\n",
    "    retrieved_docs = query_vector(query_text , 3)\n",
    "    \n",
    "    context = \"\\n\".join([doc[0] for doc in retrieved_docs])\n",
    "    \n",
    "    prompt = f\"Answer the question based following context:\\n {context} \\n\\n Question: {query_text} \\n\\n\"\n",
    "    \n",
    "    response = ollama.chat(\n",
    "      model=\"llama3.2\",\n",
    "      messages=[\n",
    "          { \"role\" : \"system\", \"content\" : \"You are an assistant about 'มหาวิทยาลัยเทคโนโลยีพระจอมเกล้าธนบุรี คณะเทคโนโลยีสารสนเทศ' only and provide data to user , if user's question no data you say to user no data\" },\n",
    "          { \"role\": \"user\", \"content\": prompt }\n",
    "          \n",
    "      ]   \n",
    "    )\n",
    "    \n",
    "    return f\"{query_text} : {response['message']['content']}\"\n",
    "\n",
    "result = [   \n",
    "  generate_response(\"คณบดีคือใคร ?\"),\n",
    "  generate_response(\"สัญลักษ์ของ คณะ คืออะไร ?\"),\n",
    "  generate_response(\"หลักสูตรปริญญาตรี มีอะไรบ้าง ?\"),\n",
    "  generate_response(\"หลักสูตรปริญญาโท มีอะไรบ้าง ?\"),\n",
    "  generate_response(\"หลักสูตรปริญญาเอก มีอะไรบ้าง ?\"),\n",
    "  generate_response(\"ความเป็นมาของคณะ มีอะไรบ้าง ?\"),\n",
    "]\n",
    "        \n",
    "for r in result:\n",
    "    print(r)\n",
    "    print(\"===\"*20)"
   ]
  },
  {
   "cell_type": "code",
   "execution_count": null,
   "id": "34f9208f",
   "metadata": {},
   "outputs": [],
   "source": []
  }
 ],
 "metadata": {
  "kernelspec": {
   "display_name": ".venv",
   "language": "python",
   "name": "python3"
  },
  "language_info": {
   "codemirror_mode": {
    "name": "ipython",
    "version": 3
   },
   "file_extension": ".py",
   "mimetype": "text/x-python",
   "name": "python",
   "nbconvert_exporter": "python",
   "pygments_lexer": "ipython3",
   "version": "3.13.2"
  }
 },
 "nbformat": 4,
 "nbformat_minor": 5
}
